{
 "cells": [
  {
   "cell_type": "code",
   "execution_count": 1,
   "metadata": {},
   "outputs": [],
   "source": [
    "import sys\n",
    "sys.path.append('../')"
   ]
  },
  {
   "cell_type": "code",
   "execution_count": 2,
   "metadata": {},
   "outputs": [],
   "source": [
    "from analyser.scripts import get_random_article, format_body\n",
    "\n",
    "article = get_random_article()\n",
    "body = article['fields']['body']\n",
    "formatted = format_body(body)"
   ]
  },
  {
   "cell_type": "code",
   "execution_count": 3,
   "metadata": {},
   "outputs": [
    {
     "name": "stdout",
     "output_type": "stream",
     "text": [
      "<p>The mayor of Liverpool, Steve Rotheram, has described <a href=\"https://www.theguardian.com/football/2023/nov/17/everton-deducted-10-points-premier-league-guilty-financial-fair-play-breach\">Everton’s 10-point deduction</a> as “wholly disproportionate” and vowed to support the club’s appeal in a letter to the Premier League’s chief executive.</p> <p>Everton were plunged into the relegation zone last week after being given <a href=\"https://www.theguardian.com/football/2023/nov/17/everton-point-deduction-how-the-premier-league-came-to-its-decision\">the heaviest punishment</a> ever handed to a Premier League team for breaching financial rules. An independent commission found the club lost £124.5m over the financial period covering four years to July 2022, £19.5m above the permitted threshold.</p> <aside class=\"element element-rich-link element--thumbnail\"> <p> <span>Related: </span><a href=\"https://www.theguardian.com/football/2023/nov/17/premier-league-financial-fair-play-everton-manchester-city-chelsea\">Everton’s deduction is a tremor – City and Chelsea may face the earthquake</a> </p> </aside>  <p>The punishment has led to <a href=\"https://www.theguardian.com/football/2023/nov/18/everton-fans-view-premier-leagues-10-point-penalty-simply-doesnt-add-up\">a barrage of criticism from supporters</a>, with Rotheram adding his voice to the outrage on Monday after writing to Richard Masters to express his “deep concern and opposition” and urge the league to “take a more lenient approach and consider alternative forms of punishment that do not unfairly penalize the club’s players and supporters”.</p> <p>His letter read: “The sanction imposed is not only unprecedented but a wholly disproportionate one too. While I understand, and indeed support, the importance of maintaining discipline and upholding the integrity of the sport, it is crucial to ensure that any punitive measures are proportionate and just. I do not believe that this punishment fits the crime.</p> <p>“The decision to deduct 10 points from Everton is disproportionately severe, especially considering the club’s willingness and proactivity in working in partnership with the Premier League to ensure all dealings were FFP compliant when it was clear they were close to breaching the rules.”</p> <p>Rotheram added: “I completely support the club’s appeal and would urge you to take a more lenient approach and consider alternative forms of punishment that do not unfairly penalize the club’s players and supporters.</p> <p>“As a founding member of both the Football League and Premier League, Everton are an important part of the fabric of English football. They deserve to be treated fairly, justly and with respect.”</p> <p>Everton fans are organising a protest before Sunday’s game against Manchester United at Goodison Park, having reportedly raised almost £40,000 in funding.</p>\n",
      "the mayor of liverpool, steve rotheram, has described everton s 10 point deduction as wholly disproportionate and vowed to support the club s appeal in a letter to the premier league s chief executive. everton were plunged into the relegation zone last week after being given the heaviest punishment ever handed to a premier league team for breaching financial rules. an independent commission found the club lost 124.5m over the financial period covering four years to july 2022, 19.5m above the permitted threshold. related everton s deduction is a tremor city and chelsea may face the earthquake the punishment has led to a barrage of criticism from supporters, with rotheram adding his voice to the outrage on monday after writing to richard masters to express his deep concern and opposition and urge the league to take a more lenient approach and consider alternative forms of punishment that do not unfairly penalize the club s players and supporters . his letter read the sanction imposed is not only unprecedented but a wholly disproportionate one too. while i understand, and indeed support, the importance of maintaining discipline and upholding the integrity of the sport, it is crucial to ensure that any punitive measures are proportionate and just. i do not believe that this punishment fits the crime. the decision to deduct 10 points from everton is disproportionately severe, especially considering the club s willingness and proactivity in working in partnership with the premier league to ensure all dealings were ffp compliant when it was clear they were close to breaching the rules. rotheram added i completely support the club s appeal and would urge you to take a more lenient approach and consider alternative forms of punishment that do not unfairly penalize the club s players and supporters. as a founding member of both the football league and premier league, everton are an important part of the fabric of english football. they deserve to be treated fairly, justly and with respect. everton fans are organising a protest before sunday s game against manchester united at goodison park, having reportedly raised almost 40,000 in funding.\n"
     ]
    }
   ],
   "source": [
    "print(body)\n",
    "print(formatted)"
   ]
  },
  {
   "cell_type": "markdown",
   "metadata": {},
   "source": [
    "### Text Wrangling"
   ]
  },
  {
   "cell_type": "code",
   "execution_count": 4,
   "metadata": {},
   "outputs": [
    {
     "ename": "ModuleNotFoundError",
     "evalue": "No module named 'gensim'",
     "output_type": "error",
     "traceback": [
      "\u001b[0;31m---------------------------------------------------------------------------\u001b[0m",
      "\u001b[0;31mModuleNotFoundError\u001b[0m                       Traceback (most recent call last)",
      "\u001b[1;32m/Users/rush/projects/2023/saucynews/analysis/notebooks/Text Summarisation.ipynb Cell 5\u001b[0m line \u001b[0;36m1\n\u001b[0;32m----> <a href='vscode-notebook-cell:/Users/rush/projects/2023/saucynews/analysis/notebooks/Text%20Summarisation.ipynb#W4sZmlsZQ%3D%3D?line=0'>1</a>\u001b[0m \u001b[39mfrom\u001b[39;00m \u001b[39mgensim\u001b[39;00m\u001b[39m.\u001b[39;00m\u001b[39msummarization\u001b[39;00m \u001b[39mimport\u001b[39;00m summarize\n\u001b[1;32m      <a href='vscode-notebook-cell:/Users/rush/projects/2023/saucynews/analysis/notebooks/Text%20Summarisation.ipynb#W4sZmlsZQ%3D%3D?line=2'>3</a>\u001b[0m DOCUMENT \u001b[39m=\u001b[39m formatted\n\u001b[1;32m      <a href='vscode-notebook-cell:/Users/rush/projects/2023/saucynews/analysis/notebooks/Text%20Summarisation.ipynb#W4sZmlsZQ%3D%3D?line=4'>5</a>\u001b[0m \u001b[39mprint\u001b[39m(summarize(DOCUMENT, ratio\u001b[39m=\u001b[39m\u001b[39m0.2\u001b[39m, split\u001b[39m=\u001b[39m\u001b[39mFalse\u001b[39;00m))\n",
      "\u001b[0;31mModuleNotFoundError\u001b[0m: No module named 'gensim'"
     ]
    }
   ],
   "source": [
    "from gensim.summarization.summarizer import summarize\n",
    "\n",
    "DOCUMENT = formatted\n",
    "\n",
    "print(summarize(DOCUMENT, ratio=0.2, split=False))"
   ]
  }
 ],
 "metadata": {
  "kernelspec": {
   "display_name": "analyser",
   "language": "python",
   "name": "analyser"
  },
  "language_info": {
   "codemirror_mode": {
    "name": "ipython",
    "version": 3
   },
   "file_extension": ".py",
   "mimetype": "text/x-python",
   "name": "python",
   "nbconvert_exporter": "python",
   "pygments_lexer": "ipython3",
   "version": "3.9.16"
  }
 },
 "nbformat": 4,
 "nbformat_minor": 2
}
